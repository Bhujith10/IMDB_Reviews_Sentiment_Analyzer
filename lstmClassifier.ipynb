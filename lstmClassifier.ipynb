{
 "cells": [
  {
   "cell_type": "code",
   "execution_count": 1,
   "metadata": {},
   "outputs": [],
   "source": [
    "import numpy as np\n",
    "import pickle\n",
    "import os\n",
    "from preprocess import preprocess\n",
    "import sqlite3\n",
    "from flask import Flask,render_template,request,jsonify\n",
    "import tensorflow as tf\n",
    "from keras.models import load_model,model_from_json\n",
    "from keras.layers import TextVectorization"
   ]
  },
  {
   "cell_type": "code",
   "execution_count": 2,
   "metadata": {},
   "outputs": [],
   "source": [
    "app=Flask(__name__)"
   ]
  },
  {
   "cell_type": "code",
   "execution_count": 3,
   "metadata": {},
   "outputs": [],
   "source": [
    "logisticClassifier=pickle.load(open(os.path.join('pickleObjects','logisticClassifier.pkl'),'rb'))"
   ]
  },
  {
   "cell_type": "code",
   "execution_count": 4,
   "metadata": {},
   "outputs": [],
   "source": [
    "##                            For loading text vectorization layer\n",
    "\n",
    "# loaded_vectorizer=pickle.load(open(os.path.join('pickleObjects','vectorizer.pkl'),'rb'))\n",
    "# new_vectorizer = TextVectorization.from_config(loaded_vectorizer['config'])\n",
    "# new_vectorizer.adapt(tf.data.Dataset.from_tensor_slices([\"xyz\"]))\n",
    "# new_vectorizer.set_weights(loaded_vectorizer['weights'])\n",
    "\n",
    "##                              For loading lstm model\n",
    "# json_file = open('model.json', 'r')\n",
    "# loaded_model_json = json_file.read()\n",
    "# json_file.close()\n",
    "# model = model_from_json(loaded_model_json)\n",
    "# load weights into new model\n",
    "# model.load_weights(\"model.h5\")"
   ]
  },
  {
   "cell_type": "code",
   "execution_count": 6,
   "metadata": {},
   "outputs": [],
   "source": [
    "#model=load_model('IMDBReviewsLSTMClassifier.h5')"
   ]
  },
  {
   "cell_type": "code",
   "execution_count": 4,
   "metadata": {},
   "outputs": [],
   "source": [
    "db_path=os.path.join('reviews_database.sqlite')"
   ]
  },
  {
   "cell_type": "code",
   "execution_count": 6,
   "metadata": {},
   "outputs": [],
   "source": [
    "# Initial Creation of reviews database to store reviews submitted by users\n",
    "# conn=sqlite3.connect('reviews_database.sqlite')\n",
    "# c=conn.cursor()\n",
    "# c.execute(\"CREATE TABLE reviews_table(reviews TEXT,sentiment INTEGER, date TEXT)\")\n",
    "# review1='The movie was superb'\n",
    "# review2='Not a nice movie'\n",
    "# c.execute(\"INSERT INTO reviews_table VALUES(?,?,DATETIME('now'))\",(review1,1))\n",
    "# c.execute(\"INSERT INTO reviews_table VALUES(?,?,DATETIME('now'))\",(review2,1))\n",
    "# conn.commit()\n",
    "# conn.close()"
   ]
  },
  {
   "cell_type": "code",
   "execution_count": 5,
   "metadata": {},
   "outputs": [],
   "source": [
    "def classify(text):\n",
    "    labels={0:'Negative',1:'Positive'}\n",
    "    label=labels[logisticClassifier.predict(([preprocess(text)]))[0]]\n",
    "    probability=round(np.max(logisticClassifier.predict_proba([preprocess(text)]))*100,2)\n",
    "    return label,probability"
   ]
  },
  {
   "cell_type": "code",
   "execution_count": 6,
   "metadata": {},
   "outputs": [],
   "source": [
    "def sqlite_entry(path,text,sentiment):\n",
    "    conn=sqlite3.connect(path)\n",
    "    c=conn.cursor()\n",
    "    c.execute(\"INSERT INTO reviews_table VALUES(?,?,DATETIME('now'))\",(text,sentiment))\n",
    "    conn.commit()\n",
    "    conn.close()"
   ]
  },
  {
   "cell_type": "code",
   "execution_count": 7,
   "metadata": {},
   "outputs": [],
   "source": [
    "##For updating weights of lstm model for new reviews\n",
    "def train(text,sentiment):\n",
    "    x=new_vectorizer([preprocess(text)]).numpy()\n",
    "    y=np.asarray([sentiment])\n",
    "    model.compile(loss='binary_crossentropy', optimizer='adam', metrics=['accuracy'])\n",
    "    model.fit(x,y)\n",
    "    model.save_weights('model.h5')"
   ]
  },
  {
   "cell_type": "code",
   "execution_count": 7,
   "metadata": {},
   "outputs": [],
   "source": [
    "@app.route('/',methods=['GET','POST'])\n",
    "def index():\n",
    "    return render_template('reviewForm.html')\n",
    "\n",
    "@app.route('/results',methods=['GET','POST'])\n",
    "def results():\n",
    "    if request.method=='POST':\n",
    "        review=request.form['review']\n",
    "        y,prob=classify(review)\n",
    "        print(review,' ',y)\n",
    "        return render_template('results.html',content=review,prediction=y,probability=prob)\n",
    "    \n",
    "@app.route('/thanks',methods=['GET','POST'])\n",
    "def feedback():\n",
    "    if request.method=='POST':\n",
    "        feedback=request.form['feedbackButton']\n",
    "        review=request.form['content']\n",
    "        sentiment=request.form['prediction']\n",
    "        labels={'Negative':0,'Positive':1}\n",
    "        y=labels[sentiment]\n",
    "        if feedback=='Incorrect prediction':\n",
    "            y=int(not(y))\n",
    "        sqlite_entry(db_path,review,y)\n",
    "        return render_template('thanks.html')"
   ]
  },
  {
   "cell_type": "code",
   "execution_count": null,
   "metadata": {},
   "outputs": [
    {
     "name": "stdout",
     "output_type": "stream",
     "text": [
      " * Serving Flask app '__main__' (lazy loading)\n",
      " * Environment: production\n",
      "\u001b[31m   WARNING: This is a development server. Do not use it in a production deployment.\u001b[0m\n",
      "\u001b[2m   Use a production WSGI server instead.\u001b[0m\n",
      " * Debug mode: off\n"
     ]
    },
    {
     "name": "stderr",
     "output_type": "stream",
     "text": [
      " * Running on http://127.0.0.1:5000/ (Press CTRL+C to quit)\n",
      "127.0.0.1 - - [20/May/2022 23:24:08] \"GET / HTTP/1.1\" 200 -\n",
      "127.0.0.1 - - [20/May/2022 23:24:27] \"POST /results HTTP/1.1\" 200 -\n"
     ]
    },
    {
     "name": "stdout",
     "output_type": "stream",
     "text": [
      "a bad movie but good screenplay. don't watch it in theatres   Negative\n"
     ]
    },
    {
     "name": "stderr",
     "output_type": "stream",
     "text": [
      "127.0.0.1 - - [20/May/2022 23:24:33] \"POST /thanks HTTP/1.1\" 200 -\n"
     ]
    }
   ],
   "source": [
    "if __name__=='__main__':\n",
    "    app.run()"
   ]
  },
  {
   "cell_type": "code",
   "execution_count": null,
   "metadata": {},
   "outputs": [],
   "source": []
  }
 ],
 "metadata": {
  "kernelspec": {
   "display_name": "Python 3",
   "language": "python",
   "name": "python3"
  },
  "language_info": {
   "codemirror_mode": {
    "name": "ipython",
    "version": 3
   },
   "file_extension": ".py",
   "mimetype": "text/x-python",
   "name": "python",
   "nbconvert_exporter": "python",
   "pygments_lexer": "ipython3",
   "version": "3.7.0"
  }
 },
 "nbformat": 4,
 "nbformat_minor": 2
}
